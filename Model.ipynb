{
  "cells": [
    {
      "cell_type": "code",
      "execution_count": null,
      "metadata": {
        "id": "l4E65hxLiMvG"
      },
      "outputs": [],
      "source": [
        "pip install geopandas folium matplotlib mapclassify"
      ]
    },
    {
      "cell_type": "code",
      "execution_count": null,
      "metadata": {
        "id": "dRkOALPWRhO9"
      },
      "outputs": [],
      "source": [
        "#import needed modules\n",
        "import pandas as pd\n",
        "import numpy as np\n",
        "import matplotlib.pyplot as plt\n",
        "import geopandas as gpd\n",
        "import webbrowser\n",
        "import os\n",
        "from statsmodels.formula.api import ols\n",
        "from scipy import stats\n",
        "from datetime import datetime\n",
        "from sklearn import preprocessing, linear_model\n",
        "from sklearn.model_selection import KFold\n",
        "from sklearn.linear_model import LinearRegression\n",
        "from matplotlib.pyplot import figure\n",
        "from mpl_toolkits.axes_grid1 import make_axes_locatable\n",
        "from google.colab import drive\n",
        "drive.mount('/content/drive')"
      ]
    },
    {
      "cell_type": "code",
      "execution_count": null,
      "metadata": {
        "id": "EsDw03_xRwrk"
      },
      "outputs": [],
      "source": [
        "#your file path may be different\n",
        "data = pd.read_csv(\"/content/drive/MyDrive/Colab/NJ/NJData.csv\")\n",
        "education = pd.read_csv(\"/content/drive/MyDrive/Colab/NJ/NJEducation.csv\")\n",
        "racial = pd.read_csv(\"/content/drive/MyDrive/Colab/NJ/NJRacial.csv\")\n",
        "townships = gpd.read_file(\"/content/drive/MyDrive/Colab/NJ/tl_2021_34_cousub/tl_2021_34_cousub.shp\") \n",
        "townships['GEOID']=townships['GEOID'].astype(int)\n",
        "counties = gpd.read_file(\"/content/drive/MyDrive/Colab/NJ/tl_2010_34_county10/tl_2010_34_county10.shp\") \n"
      ]
    },
    {
      "cell_type": "code",
      "execution_count": null,
      "metadata": {
        "id": "fFFIhzg494w0"
      },
      "outputs": [],
      "source": [
        "def merge(shapefile, dataset, column):\n",
        "  return shapefile.merge(dataset, on=column)"
      ]
    },
    {
      "cell_type": "code",
      "execution_count": null,
      "metadata": {
        "id": "4MbsQQ8E-CPK"
      },
      "outputs": [],
      "source": [
        "withElectionData = merge(townships,data,\"GEOID\")\n",
        "withTwoData = merge(withElectionData,education,\"GEOID\")\n",
        "filled = merge(withTwoData,racial,\"GEOID\")"
      ]
    },
    {
      "cell_type": "code",
      "execution_count": null,
      "metadata": {
        "id": "TUmvVvWYGjVx"
      },
      "outputs": [],
      "source": [
        "def electionInteractive(year, min, max):\n",
        "  return filled.explore(column = year, tooltip = [\"NAMELSAD\",\"Pres16\",\"Pres20\",\"Swing\"], cmap = \"RdBu\", vmin = min, vmax = max, style_kwds = {\"fillOpacity\":1,\"weight\":1,\"color\":\"Black\"})"
      ]
    },
    {
      "cell_type": "code",
      "execution_count": null,
      "metadata": {
        "id": "v0G9Nmbg9Q0y"
      },
      "outputs": [],
      "source": [
        "def demographicInteractive(demographic):\n",
        "  return filled.explore(column = demographic, tooltip = [\"NAMELSAD\",demographic], cmap = \"Greys\", vmin = 0, vmax = 1, style_kwds = {\"fillOpacity\":1,\"weight\":1,\"color\":\"Black\"})"
      ]
    },
    {
      "cell_type": "code",
      "execution_count": null,
      "metadata": {
        "id": "LYptN4jS-LPt"
      },
      "outputs": [],
      "source": [
        "def predictionInteractive(year, min, max):\n",
        "  return filled.explore(column = year, tooltip = [\"NAMELSAD\",\"Pres20\",\"Predicted\",\"Difference\"], cmap = \"RdBu\", vmin = min, vmax = max, style_kwds = {\"fillOpacity\":1,\"weight\":1,\"color\":\"Black\"})"
      ]
    },
    {
      "cell_type": "code",
      "execution_count": null,
      "metadata": {
        "id": "S9UomjpZ9_U1"
      },
      "outputs": [],
      "source": [
        "def plot(xAxis,yAxis):\n",
        "  plot = filled.plot.scatter(x = xAxis, y = yAxis, c = 'DarkBlue')\n",
        "  m, b = np.polyfit(filled[xAxis], filled[yAxis], 1)\n",
        "  plt.plot(filled[xAxis], m*filled[xAxis]+b)"
      ]
    },
    {
      "cell_type": "code",
      "execution_count": null,
      "metadata": {
        "id": "OMNVePm--Gqd"
      },
      "outputs": [],
      "source": [
        "def getDemo(i,type):\n",
        "  return filled._get_value(i, type)"
      ]
    },
    {
      "cell_type": "code",
      "execution_count": null,
      "metadata": {
        "id": "1YnEPF79-ns_"
      },
      "outputs": [],
      "source": [
        "def regression(xAxis,yAxis):\n",
        "  model = ols(xAxis + \" ~ \" + yAxis, data=filled).fit()\n",
        "  return model.summary()"
      ]
    },
    {
      "cell_type": "code",
      "source": [
        "X = filled[['White', 'Black', 'Asian', 'Hispanic', 'Education']]\n",
        "y = filled['Pres20']\n",
        "regr = linear_model.LinearRegression()\n",
        "regr.fit(X.values, y)"
      ],
      "metadata": {
        "colab": {
          "base_uri": "https://localhost:8080/"
        },
        "id": "VPvmt9E76IcF",
        "outputId": "13f43874-0e06-437a-cc2f-7bd3f14fb3d5"
      },
      "execution_count": null,
      "outputs": [
        {
          "output_type": "execute_result",
          "data": {
            "text/plain": [
              "LinearRegression()"
            ]
          },
          "metadata": {},
          "execution_count": 40
        }
      ]
    },
    {
      "cell_type": "code",
      "source": [
        "Predicted = []\n",
        "for i in range(len(filled)):\n",
        "  Predicted.append(regr.predict([[getDemo(i,\"White\"),getDemo(i,\"Black\"),getDemo(i,\"Asian\"),getDemo(i,\"Hispanic\"),getDemo(i,\"Education\")]])[0])\n",
        "filled['Predicted'] = Predicted\n",
        "filled['Difference'] = filled['Predicted'] - filled['Pres20']"
      ],
      "metadata": {
        "id": "nY5dIIgI6Ngc"
      },
      "execution_count": null,
      "outputs": []
    },
    {
      "cell_type": "code",
      "execution_count": null,
      "metadata": {
        "id": "lbw8ERasyjLG"
      },
      "outputs": [],
      "source": [
        "electionMap = electionInteractive(\"Pres20\",-0.8,0.8)\n",
        "electionMap"
      ]
    },
    {
      "cell_type": "code",
      "execution_count": null,
      "metadata": {
        "id": "MG7ZtSRt_Bzj"
      },
      "outputs": [],
      "source": [
        "demographicMap = demographicInteractive(\"Education\")\n",
        "demographicMap"
      ]
    },
    {
      "cell_type": "code",
      "execution_count": null,
      "metadata": {
        "id": "mBwCLzuo2cEQ"
      },
      "outputs": [],
      "source": [
        "predictedMap = predictionInteractive(\"Difference\",-0.8,0.8)\n",
        "predictedMap"
      ]
    },
    {
      "cell_type": "code",
      "source": [
        "modelSummary = regression(\"White\",\"Swing\")\n",
        "modelSummary"
      ],
      "metadata": {
        "id": "PPXDsQdR6Rdv"
      },
      "execution_count": null,
      "outputs": []
    },
    {
      "cell_type": "code",
      "source": [
        "plot(\"Asian\",\"Difference\")"
      ],
      "metadata": {
        "id": "_x7jFYSr4n5z"
      },
      "execution_count": null,
      "outputs": []
    },
    {
      "cell_type": "markdown",
      "metadata": {
        "id": "YvQOXHHbryM0"
      },
      "source": []
    }
  ],
  "metadata": {
    "colab": {
      "collapsed_sections": [],
      "provenance": []
    },
    "kernelspec": {
      "display_name": "Python 3",
      "name": "python3"
    },
    "language_info": {
      "name": "python"
    }
  },
  "nbformat": 4,
  "nbformat_minor": 0
}